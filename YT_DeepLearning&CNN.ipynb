{
  "nbformat": 4,
  "nbformat_minor": 0,
  "metadata": {
    "colab": {
      "name": "YT_DeepLearning&CNN.ipynb",
      "provenance": [],
      "collapsed_sections": [],
      "include_colab_link": true
    },
    "kernelspec": {
      "name": "python3",
      "display_name": "Python 3"
    },
    "accelerator": "GPU"
  },
  "cells": [
    {
      "cell_type": "markdown",
      "metadata": {
        "id": "view-in-github",
        "colab_type": "text"
      },
      "source": [
        "<a href=\"https://colab.research.google.com/github/GiordanDelaCruz/Neural_Network_MNIST_Digits/blob/master/YT_DeepLearning%26CNN.ipynb\" target=\"_parent\"><img src=\"https://colab.research.google.com/assets/colab-badge.svg\" alt=\"Open In Colab\"/></a>"
      ]
    },
    {
      "cell_type": "code",
      "metadata": {
        "id": "1kFsnIzAV1XQ",
        "colab_type": "code",
        "colab": {}
      },
      "source": [
        "# Importing TensorFlow\n",
        "import tensorflow as tf\n",
        "\n",
        "# Version of TensorFlow\n",
        "tf.__version__"
      ],
      "execution_count": 0,
      "outputs": []
    },
    {
      "cell_type": "code",
      "metadata": {
        "id": "h8vG5qXoWf8Q",
        "colab_type": "code",
        "colab": {}
      },
      "source": [
        "# Importing a data set if 28x28 images of hand-written digits \n",
        "# Note: This data set is from mnist (Modified National Institute of Standards and Technology)\n",
        "mnist = tf.keras.datasets.mnist\n",
        "\n",
        "# Unpacking the dataset into variables\n",
        "(x_train, y_train), (x_test, y_test) = mnist.load_data()"
      ],
      "execution_count": 0,
      "outputs": []
    },
    {
      "cell_type": "code",
      "metadata": {
        "id": "Nmkm7ZrTqIE_",
        "colab_type": "code",
        "colab": {}
      },
      "source": [
        "# Displaying one of the training data set as a tensor\n",
        "print(\"We will now be printing out some of the training data images from our data set. Keep in mind that these training data images are all really mulitdimensional tensors.\")\n",
        "print(\"This means that the data will be composed of a bunch of values\\n\")\n",
        "print(\"Observe that the 0th training data image is:\\n\")\n",
        "print(x_train[0], \"\\n\")"
      ],
      "execution_count": 0,
      "outputs": []
    },
    {
      "cell_type": "code",
      "metadata": {
        "id": "43lgJBrNdtXL",
        "colab_type": "code",
        "colab": {}
      },
      "source": [
        "# Importing matplotlib (This is a Python 2D plotting library)\n",
        "import matplotlib.pyplot as plt\n",
        "\n",
        "# Plotting a few of the training data images from the dataset in color and in greyscale\n",
        "# Note: The \"cm\" stands for Color Map\n",
        "print(\"Plotting the 0th training data image:\")\n",
        "plt.imshow(x_train[0])\n",
        "plt.show()\n",
        "\n",
        "print(\"\\nYou can also make the plot of the numbers in grayscale if you want!!\")\n",
        "\n",
        "print(\"\\nPlotting the 0th training data image in greyscale:\")\n",
        "plt.imshow(x_train[0], cmap = plt.cm.binary)\n",
        "plt.show() \n",
        "\n",
        "print(\"\\nPlotting the 13th training data image in greyscale:\")\n",
        "plt.imshow(x_train[13], cmap = plt.cm.binary)\n",
        "plt.show()"
      ],
      "execution_count": 0,
      "outputs": []
    },
    {
      "cell_type": "code",
      "metadata": {
        "id": "vk1MA2mbkv_v",
        "colab_type": "code",
        "colab": {}
      },
      "source": [
        "# Normalizing the our training datasets\n",
        "x_train_norm = tf.keras.utils.normalize(x_train, axis = 1)\n",
        "x_test_norm = tf.keras.utils.normalize(x_test, axis = 1)\n",
        "\n",
        "\n",
        "print(\"\\nPlotting the 0th training data image in grayscale after normalization:\")\n",
        "plt.imshow(x_train_norm[0], cmap = plt.cm.binary)\n",
        "plt.show()"
      ],
      "execution_count": 0,
      "outputs": []
    },
    {
      "cell_type": "code",
      "metadata": {
        "id": "n23tz0nnrE5Q",
        "colab_type": "code",
        "colab": {}
      },
      "source": [
        "# Displaying the normalized training data set as a tensor\n",
        "print(\"Observe that our previous tensor printed above has its values changed!!\") \n",
        "print(\"We normalize our data to make it easier for our network to learn!!\\n\")\n",
        "print(x_train_norm[0])"
      ],
      "execution_count": 0,
      "outputs": []
    },
    {
      "cell_type": "code",
      "metadata": {
        "id": "l3jgP5h0r_aL",
        "colab_type": "code",
        "outputId": "ec9a3d19-a8f1-4b64-c2dc-f8eef397a6e6",
        "colab": {
          "base_uri": "https://localhost:8080/",
          "height": 195
        }
      },
      "source": [
        "# Building the model \n",
        "model = tf.keras.models.Sequential()\n",
        "\n",
        "# Adding the first layer of the network, Flatten() will reshape the layer\n",
        "model.add(tf.keras.layers.Flatten())\n",
        "\n",
        "# Adding a dense layers to the network\n",
        "model.add(tf.keras.layers.Dense(128, activation = tf.nn.relu))\n",
        "model.add(tf.keras.layers.Dense(128, activation = tf.nn.relu))\n",
        "\n",
        "# Adding the output layer\n",
        "# Note: The output layer should always have the number of case classifications \n",
        "#       In our case, it is 10 as the range of digits are from 0-9\n",
        "model.add(tf.keras.layers.Dense(10, activation = tf.nn.softmax))\n",
        "\n",
        "\n",
        "# Defining parameters to train the model\n",
        "model.compile(optimizer='adam',\n",
        "              loss='sparse_categorical_crossentropy',\n",
        "              metrics=['accuracy'])\n",
        "\n",
        "# Training the model\n",
        "print(\"Now that our deep neural network is built, let's train it!\\n\")\n",
        "model.fit(x_train_norm, y_train, epochs=3)\n"
      ],
      "execution_count": 0,
      "outputs": [
        {
          "output_type": "stream",
          "text": [
            "Now that our deep neural network is built, let's train it!\n",
            "\n",
            "Train on 60000 samples\n",
            "Epoch 1/3\n",
            "60000/60000 [==============================] - 6s 108us/sample - loss: 0.2632 - acc: 0.9215\n",
            "Epoch 2/3\n",
            "60000/60000 [==============================] - 6s 106us/sample - loss: 0.1057 - acc: 0.9671\n",
            "Epoch 3/3\n",
            "60000/60000 [==============================] - 6s 104us/sample - loss: 0.0713 - acc: 0.9769\n"
          ],
          "name": "stdout"
        },
        {
          "output_type": "execute_result",
          "data": {
            "text/plain": [
              "<tensorflow.python.keras.callbacks.History at 0x7f9d8302f5f8>"
            ]
          },
          "metadata": {
            "tags": []
          },
          "execution_count": 77
        }
      ]
    },
    {
      "cell_type": "code",
      "metadata": {
        "id": "sUIaiZF1pgGJ",
        "colab_type": "code",
        "colab": {}
      },
      "source": [
        "# Calculating the validation loss and validation accuracy\n",
        "print(\"Calculating the validation loss and validation accuracy.\")  \n",
        "print(\"Note: keep in mind that if your val_loss and val_acc differ by a huge value,\\n      there is a good chance your model has overfitted!!\\n\")\n",
        "val_loss, val_acc = model.evaluate(x_test_norm, y_test)\n",
        "print(val_loss, val_acc)"
      ],
      "execution_count": 0,
      "outputs": []
    },
    {
      "cell_type": "code",
      "metadata": {
        "id": "EnW0PjxaqG_b",
        "colab_type": "code",
        "colab": {}
      },
      "source": [
        "# Saving a model\n",
        "model.save('giorn_num_reader.model')\n",
        "\n",
        "# Loading a model\n",
        "new_model = tf.keras.models.load_model('giorn_num_reader.model')"
      ],
      "execution_count": 0,
      "outputs": []
    },
    {
      "cell_type": "code",
      "metadata": {
        "id": "wN1XrJz-swUn",
        "colab_type": "code",
        "colab": {}
      },
      "source": [
        "# Making a prediction\n",
        "predictions = new_model.predict(x_test_norm)\n",
        "\n",
        "print(\"Here is our predictions! Keep in mind that predictions are all one hot arrays \", end = \"\")\n",
        "print(\"which reperesent our probability distribution.\\n\\n\", predictions)\n",
        "\n",
        "print(\"\\nObserve that the length of out predictions array is\", len(predictions))"
      ],
      "execution_count": 0,
      "outputs": []
    },
    {
      "cell_type": "code",
      "metadata": {
        "id": "SmHB4L_AtjIt",
        "colab_type": "code",
        "outputId": "932cbd5a-f260-446b-8479-38a64bfedb95",
        "colab": {
          "base_uri": "https://localhost:8080/",
          "height": 992
        }
      },
      "source": [
        "# Importing numPy library\n",
        "import numpy as np\n",
        "\n",
        "# Displaying predictions\n",
        "# Note: Since the prediction is a list of all one hot arrays, argmax takes the highest index value and that represents our prediction!!\n",
        "#       Recall that the activation function will assign a probability value to each output neuron, and our argmax function will take the\n",
        "#       index with the highest value in each one hot encoded array\n",
        "print(\"Let's view the predictions in out predictions array!!\\n\")\n",
        "\n",
        "print(\"predictions[0] =\", np.argmax(predictions[0]))\n",
        "print(\"predictions[5] =\", np.argmax(predictions[5]))\n",
        "print(\"predictions[9999] =\", np.argmax(predictions[9999]))\n",
        "\n",
        "\n",
        "# Plotting the answers on a graph\n",
        "print(\"\\nFrom our normalized training data set, our actual data at each particular and arbitrary index was:\")\n",
        "\n",
        "print(\"\\nx_test_norm[0] =\")\n",
        "plt.imshow(x_test_norm[0])\n",
        "plt.show()\n",
        "\n",
        "print(\"\\nx_test_norm[5] =\")\n",
        "plt.imshow(x_test_norm[5])\n",
        "plt.show()\n",
        "\n",
        "print(\"\\nx_test_norm[9999] =\")\n",
        "plt.imshow(x_test_norm[9999])\n",
        "plt.show()"
      ],
      "execution_count": 0,
      "outputs": [
        {
          "output_type": "stream",
          "text": [
            "Let's view the predictions in out predictions array!!\n",
            "\n",
            "predictions[0] = 7\n",
            "predictions[5] = 1\n",
            "predictions[9999] = 6\n",
            "\n",
            "From our normalized training data set, our actual data at each particular and arbitrary index was:\n",
            "\n",
            "x_test_norm[0] =\n"
          ],
          "name": "stdout"
        },
        {
          "output_type": "display_data",
          "data": {
            "image/png": "[encoded data removed]",
            "text/plain": [
              "<Figure size 432x288 with 1 Axes>"
            ]
          },
          "metadata": {
            "tags": []
          }
        },
        {
          "output_type": "stream",
          "text": [
            "\n",
            "x_test_norm[5] =\n"
          ],
          "name": "stdout"
        },
        {
          "output_type": "display_data",
          "data": {
            "image/png": "[encoded data removed]",
            "text/plain": [
              "<Figure size 432x288 with 1 Axes>"
            ]
          },
          "metadata": {
            "tags": []
          }
        },
        {
          "output_type": "stream",
          "text": [
            "\n",
            "x_test_norm[9999] =\n"
          ],
          "name": "stdout"
        },
        {
          "output_type": "display_data",
          "data": {
            "image/png": "[encoded data removed]",
            "text/plain": [
              "<Figure size 432x288 with 1 Axes>"
            ]
          },
          "metadata": {
            "tags": []
          }
        }
      ]
    }
  ]
}